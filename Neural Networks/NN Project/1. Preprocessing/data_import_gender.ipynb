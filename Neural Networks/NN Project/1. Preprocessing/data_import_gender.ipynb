{
 "cells": [
  {
   "cell_type": "markdown",
   "metadata": {},
   "source": [
    "### Import data and libraries"
   ]
  },
  {
   "cell_type": "code",
   "execution_count": 2,
   "metadata": {},
   "outputs": [],
   "source": [
    "import pandas as pd"
   ]
  },
  {
   "cell_type": "code",
   "execution_count": 3,
   "metadata": {},
   "outputs": [],
   "source": [
    "fold_frontal_0 = pd.read_csv(\"fold_frontal_0_data.txt\", sep='\\t')\n",
    "fold_frontal_1 = pd.read_csv(\"fold_frontal_1_data.txt\", sep='\\t')\n",
    "fold_frontal_2 = pd.read_csv(\"fold_frontal_2_data.txt\", sep='\\t')\n",
    "fold_frontal_3 = pd.read_csv(\"fold_frontal_3_data.txt\", sep='\\t')\n",
    "fold_frontal_4 = pd.read_csv(\"fold_frontal_4_data.txt\", sep='\\t')"
   ]
  },
  {
   "cell_type": "code",
   "execution_count": 4,
   "metadata": {},
   "outputs": [
    {
     "output_type": "stream",
     "name": "stdout",
     "text": [
      "(3210, 12)\n(3063, 12)\n(2381, 12)\n(2508, 12)\n(2398, 12)\n"
     ]
    }
   ],
   "source": [
    "print(fold_frontal_0.shape)\n",
    "print(fold_frontal_1.shape)\n",
    "print(fold_frontal_2.shape)\n",
    "print(fold_frontal_3.shape)\n",
    "print(fold_frontal_4.shape)"
   ]
  },
  {
   "cell_type": "code",
   "execution_count": 5,
   "metadata": {},
   "outputs": [
    {
     "output_type": "execute_result",
     "data": {
      "text/plain": [
       "13560"
      ]
     },
     "metadata": {},
     "execution_count": 5
    }
   ],
   "source": [
    "3210 + 3063 + 2381 + 2508 + 2398"
   ]
  },
  {
   "cell_type": "markdown",
   "metadata": {},
   "source": [
    "# Functions"
   ]
  },
  {
   "cell_type": "code",
   "execution_count": 6,
   "metadata": {},
   "outputs": [],
   "source": [
    "def datadir_a(userid, faceid, orig_image):\n",
    "    link = 'data/aligned/' + userid + '/landmark_aligned_face.' + str(faceid) + '.' + orig_image\n",
    "    return link\n",
    "    \n",
    "def gender_category(gender):\n",
    "    if gender == 'f':\n",
    "        return 0\n",
    "    elif gender == 'm':\n",
    "        return 1\n",
    "    else:\n",
    "        return 999"
   ]
  },
  {
   "cell_type": "markdown",
   "metadata": {},
   "source": [
    "# Combine dfs and write datadir"
   ]
  },
  {
   "cell_type": "markdown",
   "metadata": {},
   "source": [
    "### For frontal only"
   ]
  },
  {
   "cell_type": "code",
   "execution_count": 7,
   "metadata": {},
   "outputs": [],
   "source": [
    "# Create datadir col\n",
    "fold_frontal_0['datadir'] = fold_frontal_0.apply(lambda x: datadir_a(x['user_id'], x['face_id'], x['original_image']), axis=1)\n",
    "fold_frontal_0 = fold_frontal_0[['datadir', 'age', 'gender']]\n",
    "fold_frontal_0.head()\n",
    "\n",
    "fold_frontal_1['datadir'] = fold_frontal_1.apply(lambda x: datadir_a(x['user_id'], x['face_id'], x['original_image']), axis=1)\n",
    "fold_frontal_1 = fold_frontal_1[['datadir', 'age', 'gender']]\n",
    "\n",
    "fold_frontal_2['datadir'] = fold_frontal_2.apply(lambda x: datadir_a(x['user_id'], x['face_id'], x['original_image']), axis=1)\n",
    "fold_frontal_2 = fold_frontal_2[['datadir', 'age', 'gender']]\n",
    "\n",
    "fold_frontal_3['datadir'] = fold_frontal_3.apply(lambda x: datadir_a(x['user_id'], x['face_id'], x['original_image']), axis=1)\n",
    "fold_frontal_3 = fold_frontal_3[['datadir', 'age', 'gender']]\n",
    "\n",
    "fold_frontal_4['datadir'] = fold_frontal_4.apply(lambda x: datadir_a(x['user_id'], x['face_id'], x['original_image']), axis=1)\n",
    "fold_frontal_4 = fold_frontal_4[['datadir', 'age', 'gender']]\n",
    "\n",
    "# Combine dfs\n",
    "dfs = [fold_frontal_0, fold_frontal_1, fold_frontal_2, fold_frontal_3, fold_frontal_4]\n",
    "aligned = pd.concat(dfs) "
   ]
  },
  {
   "cell_type": "code",
   "execution_count": 8,
   "metadata": {},
   "outputs": [],
   "source": [
    "# convert age to integer to age category (0-7)\n",
    "# aligned['age'] = aligned['age'].apply(age_group)\n",
    "# aligned['age'] = pd.to_numeric(aligned['age'], downcast='integer')\n",
    "# aligned['age'] = aligned['age'].apply(age_category)\n",
    "\n",
    "# convert gender to integer (0 or 1)\n",
    "aligned['gender'] = aligned['gender'].apply(gender_category)\n",
    "\n",
    "# remove unknowns\n",
    "aligned = aligned[aligned['gender'] != 999]"
   ]
  },
  {
   "cell_type": "markdown",
   "metadata": {},
   "source": [
    "# Preprocessing"
   ]
  },
  {
   "cell_type": "code",
   "execution_count": 9,
   "metadata": {},
   "outputs": [],
   "source": [
    "aligned_gender = aligned.drop(columns=['age'])"
   ]
  },
  {
   "cell_type": "code",
   "execution_count": 10,
   "metadata": {},
   "outputs": [
    {
     "output_type": "execute_result",
     "data": {
      "text/plain": [
       "(12194, 2)"
      ]
     },
     "metadata": {},
     "execution_count": 10
    }
   ],
   "source": [
    "aligned_gender.shape"
   ]
  },
  {
   "cell_type": "markdown",
   "metadata": {},
   "source": [
    "# Save files"
   ]
  },
  {
   "cell_type": "code",
   "execution_count": 11,
   "metadata": {},
   "outputs": [],
   "source": [
    "aligned_gender = aligned_gender.to_csv(r'aligned_gender.txt', index=None, sep='\\t', mode='a')"
   ]
  },
  {
   "cell_type": "code",
   "execution_count": null,
   "metadata": {},
   "outputs": [],
   "source": []
  }
 ],
 "metadata": {
  "kernelspec": {
   "display_name": "Python 3",
   "language": "python",
   "name": "python3"
  },
  "language_info": {
   "codemirror_mode": {
    "name": "ipython",
    "version": 3
   },
   "file_extension": ".py",
   "mimetype": "text/x-python",
   "name": "python",
   "nbconvert_exporter": "python",
   "pygments_lexer": "ipython3",
   "version": "3.7.4-final"
  }
 },
 "nbformat": 4,
 "nbformat_minor": 2
}
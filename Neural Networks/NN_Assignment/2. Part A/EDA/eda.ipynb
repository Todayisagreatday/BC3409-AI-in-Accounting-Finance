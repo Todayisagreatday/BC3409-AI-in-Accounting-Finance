{
 "metadata": {
  "language_info": {
   "codemirror_mode": {
    "name": "ipython",
    "version": 3
   },
   "file_extension": ".py",
   "mimetype": "text/x-python",
   "name": "python",
   "nbconvert_exporter": "python",
   "pygments_lexer": "ipython3",
   "version": "3.7.9-final"
  },
  "orig_nbformat": 2,
  "kernelspec": {
   "name": "Python 3.7.9 64-bit (conda)",
   "display_name": "Python 3.7.9 64-bit (conda)",
   "metadata": {
    "interpreter": {
     "hash": "839637c8da3f9353de61a55266b9cc04920dd53e92a6cd0be89fa5685b0d6e73"
    }
   }
  }
 },
 "nbformat": 4,
 "nbformat_minor": 2,
 "cells": [
  {
   "cell_type": "code",
   "execution_count": 18,
   "metadata": {},
   "outputs": [],
   "source": [
    "import pandas as pd"
   ]
  },
  {
   "cell_type": "code",
   "execution_count": 19,
   "metadata": {},
   "outputs": [],
   "source": [
    "ctg = pd.read_csv('ctg_data_cleaned.csv')"
   ]
  },
  {
   "cell_type": "code",
   "execution_count": 20,
   "metadata": {},
   "outputs": [
    {
     "output_type": "execute_result",
     "data": {
      "text/plain": "    LB     AC   FM     UC     DL   DS   DP  ASTV  MSTV  ALTV  ...  Max  Nmax  \\\n0  120  0.000  0.0  0.000  0.000  0.0  0.0    73   0.5    43  ...  126     2   \n1  132  0.006  0.0  0.006  0.003  0.0  0.0    17   2.1     0  ...  198     6   \n2  133  0.003  0.0  0.008  0.003  0.0  0.0    16   2.1     0  ...  198     5   \n3  134  0.003  0.0  0.008  0.003  0.0  0.0    16   2.4     0  ...  170    11   \n4  132  0.007  0.0  0.008  0.000  0.0  0.0    16   2.4     0  ...  170     9   \n\n   Nzeros  Mode  Mean  Median  Variance  Tendency  CLASS  NSP  \n0       0   120   137     121        73         1      9    2  \n1       1   141   136     140        12         0      6    1  \n2       1   141   135     138        13         0      6    1  \n3       0   137   134     137        13         1      6    1  \n4       0   137   136     138        11         1      2    1  \n\n[5 rows x 23 columns]",
      "text/html": "<div>\n<style scoped>\n    .dataframe tbody tr th:only-of-type {\n        vertical-align: middle;\n    }\n\n    .dataframe tbody tr th {\n        vertical-align: top;\n    }\n\n    .dataframe thead th {\n        text-align: right;\n    }\n</style>\n<table border=\"1\" class=\"dataframe\">\n  <thead>\n    <tr style=\"text-align: right;\">\n      <th></th>\n      <th>LB</th>\n      <th>AC</th>\n      <th>FM</th>\n      <th>UC</th>\n      <th>DL</th>\n      <th>DS</th>\n      <th>DP</th>\n      <th>ASTV</th>\n      <th>MSTV</th>\n      <th>ALTV</th>\n      <th>...</th>\n      <th>Max</th>\n      <th>Nmax</th>\n      <th>Nzeros</th>\n      <th>Mode</th>\n      <th>Mean</th>\n      <th>Median</th>\n      <th>Variance</th>\n      <th>Tendency</th>\n      <th>CLASS</th>\n      <th>NSP</th>\n    </tr>\n  </thead>\n  <tbody>\n    <tr>\n      <th>0</th>\n      <td>120</td>\n      <td>0.000</td>\n      <td>0.0</td>\n      <td>0.000</td>\n      <td>0.000</td>\n      <td>0.0</td>\n      <td>0.0</td>\n      <td>73</td>\n      <td>0.5</td>\n      <td>43</td>\n      <td>...</td>\n      <td>126</td>\n      <td>2</td>\n      <td>0</td>\n      <td>120</td>\n      <td>137</td>\n      <td>121</td>\n      <td>73</td>\n      <td>1</td>\n      <td>9</td>\n      <td>2</td>\n    </tr>\n    <tr>\n      <th>1</th>\n      <td>132</td>\n      <td>0.006</td>\n      <td>0.0</td>\n      <td>0.006</td>\n      <td>0.003</td>\n      <td>0.0</td>\n      <td>0.0</td>\n      <td>17</td>\n      <td>2.1</td>\n      <td>0</td>\n      <td>...</td>\n      <td>198</td>\n      <td>6</td>\n      <td>1</td>\n      <td>141</td>\n      <td>136</td>\n      <td>140</td>\n      <td>12</td>\n      <td>0</td>\n      <td>6</td>\n      <td>1</td>\n    </tr>\n    <tr>\n      <th>2</th>\n      <td>133</td>\n      <td>0.003</td>\n      <td>0.0</td>\n      <td>0.008</td>\n      <td>0.003</td>\n      <td>0.0</td>\n      <td>0.0</td>\n      <td>16</td>\n      <td>2.1</td>\n      <td>0</td>\n      <td>...</td>\n      <td>198</td>\n      <td>5</td>\n      <td>1</td>\n      <td>141</td>\n      <td>135</td>\n      <td>138</td>\n      <td>13</td>\n      <td>0</td>\n      <td>6</td>\n      <td>1</td>\n    </tr>\n    <tr>\n      <th>3</th>\n      <td>134</td>\n      <td>0.003</td>\n      <td>0.0</td>\n      <td>0.008</td>\n      <td>0.003</td>\n      <td>0.0</td>\n      <td>0.0</td>\n      <td>16</td>\n      <td>2.4</td>\n      <td>0</td>\n      <td>...</td>\n      <td>170</td>\n      <td>11</td>\n      <td>0</td>\n      <td>137</td>\n      <td>134</td>\n      <td>137</td>\n      <td>13</td>\n      <td>1</td>\n      <td>6</td>\n      <td>1</td>\n    </tr>\n    <tr>\n      <th>4</th>\n      <td>132</td>\n      <td>0.007</td>\n      <td>0.0</td>\n      <td>0.008</td>\n      <td>0.000</td>\n      <td>0.0</td>\n      <td>0.0</td>\n      <td>16</td>\n      <td>2.4</td>\n      <td>0</td>\n      <td>...</td>\n      <td>170</td>\n      <td>9</td>\n      <td>0</td>\n      <td>137</td>\n      <td>136</td>\n      <td>138</td>\n      <td>11</td>\n      <td>1</td>\n      <td>2</td>\n      <td>1</td>\n    </tr>\n  </tbody>\n</table>\n<p>5 rows × 23 columns</p>\n</div>"
     },
     "metadata": {},
     "execution_count": 20
    }
   ],
   "source": [
    "ctg.head()"
   ]
  },
  {
   "cell_type": "code",
   "execution_count": 13,
   "metadata": {
    "tags": []
   },
   "outputs": [
    {
     "output_type": "stream",
     "name": "stdout",
     "text": "(2126, 23)\n(2126, 23)\n"
    }
   ],
   "source": [
    "print(ctg.shape)"
   ]
  },
  {
   "cell_type": "code",
   "execution_count": 15,
   "metadata": {},
   "outputs": [
    {
     "output_type": "execute_result",
     "data": {
      "text/plain": "array([2, 1, 3], dtype=int64)"
     },
     "metadata": {},
     "execution_count": 15
    }
   ],
   "source": [
    "ctg['NSP'].unique()"
   ]
  },
  {
   "cell_type": "code",
   "execution_count": 17,
   "metadata": {},
   "outputs": [
    {
     "output_type": "execute_result",
     "data": {
      "text/plain": "1    1655\n2     295\n3     176\nName: NSP, dtype: int64"
     },
     "metadata": {},
     "execution_count": 17
    }
   ],
   "source": [
    "ctg['NSP'].value_counts()"
   ]
  }
 ]
}
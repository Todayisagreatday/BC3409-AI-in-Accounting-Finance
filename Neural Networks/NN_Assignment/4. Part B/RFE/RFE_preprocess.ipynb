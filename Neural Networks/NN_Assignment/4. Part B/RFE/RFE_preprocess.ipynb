{
 "metadata": {
  "language_info": {
   "codemirror_mode": {
    "name": "ipython",
    "version": 3
   },
   "file_extension": ".py",
   "mimetype": "text/x-python",
   "name": "python",
   "nbconvert_exporter": "python",
   "pygments_lexer": "ipython3",
   "version": "3.7.9-final"
  },
  "orig_nbformat": 2,
  "kernelspec": {
   "name": "Python 3.7.9 64-bit",
   "display_name": "Python 3.7.9 64-bit",
   "metadata": {
    "interpreter": {
     "hash": "839637c8da3f9353de61a55266b9cc04920dd53e92a6cd0be89fa5685b0d6e73"
    }
   }
  }
 },
 "nbformat": 4,
 "nbformat_minor": 2,
 "cells": [
  {
   "cell_type": "code",
   "execution_count": null,
   "metadata": {},
   "outputs": [],
   "source": [
    "import pandas as pd"
   ]
  },
  {
   "cell_type": "code",
   "execution_count": null,
   "metadata": {},
   "outputs": [],
   "source": [
    "predict = pd.read_csv('admission_predict.csv')\n",
    "predict.head()"
   ]
  },
  {
   "cell_type": "code",
   "execution_count": 3,
   "metadata": {
    "tags": []
   },
   "outputs": [
    {
     "output_type": "stream",
     "name": "stdout",
     "text": "(400, 7)\n(400, 6)\n"
    }
   ],
   "source": [
    "predict_6f = predict.drop(['Serial No.', 'Research'], axis=1)\n",
    "print(predict_6f.shape)\n",
    "# predict_6f.to_csv('admission_predict_6f.csv')\n",
    "predict_6f.head()\n"
   ]
  },
  {
   "cell_type": "code",
   "execution_count": null,
   "metadata": {},
   "outputs": [],
   "source": [
    "predict_5f = predict_6f.drop(['University Rating'], axis=1)\n",
    "print(predict_5f.shape)\n",
    "predict_5f.to_csv('admission_predict_5f.csv')"
   ]
  }
 ]
}
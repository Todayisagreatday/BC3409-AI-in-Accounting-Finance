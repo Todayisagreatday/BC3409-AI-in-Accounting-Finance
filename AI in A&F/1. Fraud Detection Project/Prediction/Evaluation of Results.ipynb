{
 "cells": [
  {
   "cell_type": "markdown",
   "metadata": {},
   "source": [
    "# Evaluate Results"
   ]
  },
  {
   "cell_type": "code",
   "execution_count": 2,
   "metadata": {},
   "outputs": [],
   "source": [
    "%store -r confuse_svm\n",
    "%store -r confuse_dt\n",
    "%store -r confuse_lr\n",
    "%store -r confuse_gb\n",
    "%store -r confuse_rf"
   ]
  },
  {
   "cell_type": "code",
   "execution_count": 3,
   "metadata": {},
   "outputs": [
    {
     "name": "stdout",
     "output_type": "stream",
     "text": [
      "[[283   0]\n",
      " [  9 108]]\n",
      "[[283   0]\n",
      " [  9 108]]\n",
      "[[279   4]\n",
      " [ 10 107]]\n",
      "[[283   0]\n",
      " [  5 112]]\n",
      "[[283   0]\n",
      " [  9 108]]\n"
     ]
    }
   ],
   "source": [
    "print(confuse_svm)\n",
    "print(confuse_dt)\n",
    "print(confuse_lr)\n",
    "print(confuse_gb)\n",
    "print(confuse_rf)"
   ]
  }
 ],
 "metadata": {
  "kernelspec": {
   "display_name": "Python 3",
   "language": "python",
   "name": "python3"
  },
  "language_info": {
   "codemirror_mode": {
    "name": "ipython",
    "version": 3
   },
   "file_extension": ".py",
   "mimetype": "text/x-python",
   "name": "python",
   "nbconvert_exporter": "python",
   "pygments_lexer": "ipython3",
   "version": "3.7.6"
  }
 },
 "nbformat": 4,
 "nbformat_minor": 2
}

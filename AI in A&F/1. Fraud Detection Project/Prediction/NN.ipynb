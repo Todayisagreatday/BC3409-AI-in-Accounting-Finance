{
 "cells": [
  {
   "cell_type": "markdown",
   "metadata": {},
   "source": [
    "# Import libraries and read data"
   ]
  },
  {
   "cell_type": "code",
   "execution_count": 1,
   "metadata": {
    "colab": {
     "base_uri": "https://localhost:8080/",
     "height": 73
    },
    "colab_type": "code",
    "id": "UrieaRvVUarK",
    "outputId": "d28e00b8-8829-46f1-c20a-fb181f718d90"
   },
   "outputs": [
    {
     "name": "stderr",
     "output_type": "stream",
     "text": [
      "/usr/local/lib/python3.6/dist-packages/statsmodels/tools/_testing.py:19: FutureWarning: pandas.util.testing is deprecated. Use the functions in the public API at pandas.testing instead.\n",
      "  import pandas.util.testing as tm\n"
     ]
    }
   ],
   "source": [
    "import numpy as np\n",
    "import pandas as pd \n",
    "import matplotlib.pyplot as plt\n",
    "import seaborn as sns\n",
    "from sklearn.metrics import confusion_matrix, accuracy_score, roc_auc_score\n",
    "from sklearn.model_selection import train_test_split\n",
    "from keras.models import Sequential\n",
    "from keras.layers import Dense, Dropout\n",
    "from sklearn import preprocessing"
   ]
  },
  {
   "cell_type": "code",
   "execution_count": 2,
   "metadata": {
    "colab": {},
    "colab_type": "code",
    "id": "VxFSXCwEnC83"
   },
   "outputs": [],
   "source": [
    "data = pd.read_csv(\"a1_b1_c1.csv\")\n",
    "# data = pd.read_csv(\"a1_b1_c2.csv\")\n",
    "# data = pd.read_csv(\"a1_b2_c1.csv\")\n",
    "# data = pd.read_csv(\"a1_b2_c2.csv\")"
   ]
  },
  {
   "cell_type": "markdown",
   "metadata": {},
   "source": [
    "# Train test split"
   ]
  },
  {
   "cell_type": "code",
   "execution_count": 3,
   "metadata": {
    "colab": {},
    "colab_type": "code",
    "id": "7YYFJ1j1nbu6"
   },
   "outputs": [],
   "source": [
    "# fix random seed for reproducibility\n",
    "np.random.seed(7)\n",
    "\n",
    "# split into input (X) and output (Y) variables\n",
    "X = data.iloc[:,data.columns != 'isFraud']\n",
    "Y = data['isFraud']\n",
    "# create model\n",
    "X_train, X_test, y_train, y_test = train_test_split(X, Y, test_size=0.2, random_state=10)"
   ]
  },
  {
   "cell_type": "markdown",
   "metadata": {},
   "source": [
    "# Prediction with Neural Network"
   ]
  },
  {
   "cell_type": "code",
   "execution_count": 5,
   "metadata": {
    "colab": {
     "base_uri": "https://localhost:8080/",
     "height": 235
    },
    "colab_type": "code",
    "id": "RGd11KELohgu",
    "outputId": "3087c12f-c73f-44f6-e18f-0913bd461d89"
   },
   "outputs": [
    {
     "name": "stdout",
     "output_type": "stream",
     "text": [
      "4/4 [==============================] - 0s 3ms/step - loss: 197.1193 - accuracy: 0.8600 - auc: 0.8718\n",
      "Train Accuracy score: 0.86000\n",
      "Train AUC score: 0.87178\n",
      "13/13 [==============================] - 0s 951us/step - loss: 181.4788 - accuracy: 0.9200 - auc: 0.9028\n",
      "Test Accuracy score: 0.92000\n",
      "Test AUC score: 0.90281\n",
      "WARNING:tensorflow:From <ipython-input-5-3501952a65eb>:26: Sequential.predict_classes (from tensorflow.python.keras.engine.sequential) is deprecated and will be removed after 2021-01-01.\n",
      "Instructions for updating:\n",
      "Please use instead:* `np.argmax(model.predict(x), axis=-1)`,   if your model does multi-class classification   (e.g. if it uses a `softmax` last-layer activation).* `(model.predict(x) > 0.5).astype(\"int32\")`,   if your model does binary classification   (e.g. if it uses a `sigmoid` last-layer activation).\n",
      "[[271  12]\n",
      " [ 20  97]]\n"
     ]
    }
   ],
   "source": [
    "\n",
    "# Define network\n",
    "model = Sequential()\n",
    "model.add(Dense(10, input_dim=10, activation='relu'))\n",
    "model.add(Dense(10, activation='relu'))\n",
    "model.add(Dense(1, activation='sigmoid'))\n",
    "\n",
    "# Compile model\n",
    "model.compile(loss='binary_crossentropy', optimizer='Adamax', metrics=['accuracy', 'AUC'])\n",
    "\n",
    "\n",
    "\n",
    "# Predict train set\n",
    "model.fit(X_train, y_train, epochs=100, batch_size=5, verbose=0)\n",
    "scores = model.evaluate(X_train, y_train)\n",
    "print('Train Accuracy score: {0:0.5f}' .format(scores[1]))\n",
    "print('Train AUC score: {0:0.5f}' .format(scores[2]))\n",
    "\n",
    "# Predict test set\n",
    "model.fit(X_test, y_test, epochs=100, batch_size=5, verbose=0)\n",
    "scores_test = model.evaluate(X_test, y_test)\n",
    "print('Test Accuracy score: {0:0.5f}' .format(scores_test[1]))\n",
    "print('Test AUC score: {0:0.5f}' .format(scores_test[2]))\n",
    "\n",
    "# Get confusion matrix\n",
    "yhat_classes = model.predict_classes(X_test, verbose=0)\n",
    "yhat_classes = yhat_classes[:, 0]\n",
    "\n",
    "matrix = confusion_matrix(y_test, yhat_classes)\n",
    "print(matrix)"
   ]
  }
 ],
 "metadata": {
  "colab": {
   "collapsed_sections": [],
   "name": "NN",
   "provenance": []
  },
  "kernelspec": {
   "display_name": "Python 3",
   "language": "python",
   "name": "python3"
  },
  "language_info": {
   "codemirror_mode": {
    "name": "ipython",
    "version": 3
   },
   "file_extension": ".py",
   "mimetype": "text/x-python",
   "name": "python",
   "nbconvert_exporter": "python",
   "pygments_lexer": "ipython3",
   "version": "3.7.6"
  }
 },
 "nbformat": 4,
 "nbformat_minor": 1
}
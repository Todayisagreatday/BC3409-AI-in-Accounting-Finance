{
 "metadata": {
  "language_info": {
   "codemirror_mode": {
    "name": "ipython",
    "version": 3
   },
   "file_extension": ".py",
   "mimetype": "text/x-python",
   "name": "python",
   "nbconvert_exporter": "python",
   "pygments_lexer": "ipython3",
   "version": "3.7.4-final"
  },
  "orig_nbformat": 2,
  "kernelspec": {
   "name": "Python 3.7.4 32-bit",
   "display_name": "Python 3.7.4 32-bit",
   "metadata": {
    "interpreter": {
     "hash": "0583dff42c225fd69ce4a2cd352b839fca951d8f7a0d4a67c17135b19aa42b3e"
    }
   }
  }
 },
 "nbformat": 4,
 "nbformat_minor": 2,
 "cells": [
  {
   "source": [
    "# Sentiment Rating Creation"
   ],
   "cell_type": "markdown",
   "metadata": {}
  },
  {
   "cell_type": "code",
   "execution_count": 1,
   "metadata": {},
   "outputs": [],
   "source": [
    "import pandas as pd \n",
    "import numpy as np \n",
    "import matplotlib.pyplot as plt"
   ]
  },
  {
   "cell_type": "code",
   "execution_count": 2,
   "metadata": {},
   "outputs": [],
   "source": [
    "reviews_df = pd.read_csv('reviews_cleaned_sentiment.csv')"
   ]
  },
  {
   "cell_type": "code",
   "execution_count": 3,
   "metadata": {},
   "outputs": [
    {
     "output_type": "stream",
     "name": "stdout",
     "text": [
      "(62132, 12)\n"
     ]
    },
    {
     "output_type": "execute_result",
     "data": {
      "text/plain": [
       "   listing_id         id        date  reviewer_id    reviewer_name comments  \\\n",
       "0    25972498  490566386  2019-07-19     77042397             Alex    Great   \n",
       "1    42417293  626391422  2020-05-27    343518017  Muhammad Hazwan    Great   \n",
       "2    42417293  626488723  2020-05-28    199172803            Nurul    Clean   \n",
       "3     3460343  620733537  2020-03-24    115427441           Steven    Great   \n",
       "4    21037382  572169987  2019-12-02    149877892             Bill    Clean   \n",
       "\n",
       "   length language  compound  neg  neu  pos  \n",
       "0     5.0       en    0.6249  0.0  0.0  1.0  \n",
       "1     5.0       en    0.6249  0.0  0.0  1.0  \n",
       "2     5.0       en    0.4019  0.0  0.0  1.0  \n",
       "3     5.0       en    0.6249  0.0  0.0  1.0  \n",
       "4     5.0       en    0.4019  0.0  0.0  1.0  "
      ],
      "text/html": "<div>\n<style scoped>\n    .dataframe tbody tr th:only-of-type {\n        vertical-align: middle;\n    }\n\n    .dataframe tbody tr th {\n        vertical-align: top;\n    }\n\n    .dataframe thead th {\n        text-align: right;\n    }\n</style>\n<table border=\"1\" class=\"dataframe\">\n  <thead>\n    <tr style=\"text-align: right;\">\n      <th></th>\n      <th>listing_id</th>\n      <th>id</th>\n      <th>date</th>\n      <th>reviewer_id</th>\n      <th>reviewer_name</th>\n      <th>comments</th>\n      <th>length</th>\n      <th>language</th>\n      <th>compound</th>\n      <th>neg</th>\n      <th>neu</th>\n      <th>pos</th>\n    </tr>\n  </thead>\n  <tbody>\n    <tr>\n      <th>0</th>\n      <td>25972498</td>\n      <td>490566386</td>\n      <td>2019-07-19</td>\n      <td>77042397</td>\n      <td>Alex</td>\n      <td>Great</td>\n      <td>5.0</td>\n      <td>en</td>\n      <td>0.6249</td>\n      <td>0.0</td>\n      <td>0.0</td>\n      <td>1.0</td>\n    </tr>\n    <tr>\n      <th>1</th>\n      <td>42417293</td>\n      <td>626391422</td>\n      <td>2020-05-27</td>\n      <td>343518017</td>\n      <td>Muhammad Hazwan</td>\n      <td>Great</td>\n      <td>5.0</td>\n      <td>en</td>\n      <td>0.6249</td>\n      <td>0.0</td>\n      <td>0.0</td>\n      <td>1.0</td>\n    </tr>\n    <tr>\n      <th>2</th>\n      <td>42417293</td>\n      <td>626488723</td>\n      <td>2020-05-28</td>\n      <td>199172803</td>\n      <td>Nurul</td>\n      <td>Clean</td>\n      <td>5.0</td>\n      <td>en</td>\n      <td>0.4019</td>\n      <td>0.0</td>\n      <td>0.0</td>\n      <td>1.0</td>\n    </tr>\n    <tr>\n      <th>3</th>\n      <td>3460343</td>\n      <td>620733537</td>\n      <td>2020-03-24</td>\n      <td>115427441</td>\n      <td>Steven</td>\n      <td>Great</td>\n      <td>5.0</td>\n      <td>en</td>\n      <td>0.6249</td>\n      <td>0.0</td>\n      <td>0.0</td>\n      <td>1.0</td>\n    </tr>\n    <tr>\n      <th>4</th>\n      <td>21037382</td>\n      <td>572169987</td>\n      <td>2019-12-02</td>\n      <td>149877892</td>\n      <td>Bill</td>\n      <td>Clean</td>\n      <td>5.0</td>\n      <td>en</td>\n      <td>0.4019</td>\n      <td>0.0</td>\n      <td>0.0</td>\n      <td>1.0</td>\n    </tr>\n  </tbody>\n</table>\n</div>"
     },
     "metadata": {},
     "execution_count": 3
    }
   ],
   "source": [
    "print(reviews_df.shape)\n",
    "reviews_df.head()"
   ]
  },
  {
   "source": [
    "match listings_df.id with reviews_df.listing_id"
   ],
   "cell_type": "markdown",
   "metadata": {}
  },
  {
   "source": [
    "# Get sample dataset"
   ],
   "cell_type": "markdown",
   "metadata": {}
  },
  {
   "cell_type": "code",
   "execution_count": 4,
   "metadata": {},
   "outputs": [],
   "source": [
    "# sample = reviews_df.sample(frac=0.1)\n",
    "# sample.to_csv('sample_sentiment.csv')"
   ]
  },
  {
   "cell_type": "code",
   "execution_count": 5,
   "metadata": {},
   "outputs": [
    {
     "output_type": "stream",
     "name": "stdout",
     "text": [
      "(59091, 12)\n"
     ]
    }
   ],
   "source": [
    "# Remove neutral comments\n",
    "reviews_df = reviews_df[reviews_df['compound'] != 0]\n",
    "print(reviews_df.shape)\n",
    "# Drop irrelevant columns\n",
    "reviews_df = reviews_df.drop(columns=['id', 'date', 'reviewer_name','reviewer_id', 'comments', \n",
    "                                    'length', 'language', 'neg', 'neu', 'pos'])"
   ]
  },
  {
   "cell_type": "code",
   "execution_count": 6,
   "metadata": {},
   "outputs": [
    {
     "output_type": "execute_result",
     "data": {
      "text/plain": [
       "   listing_id  compound\n",
       "0    25972498    0.6249\n",
       "1    42417293    0.6249\n",
       "2    42417293    0.4019\n",
       "3     3460343    0.6249\n",
       "4    21037382    0.4019"
      ],
      "text/html": "<div>\n<style scoped>\n    .dataframe tbody tr th:only-of-type {\n        vertical-align: middle;\n    }\n\n    .dataframe tbody tr th {\n        vertical-align: top;\n    }\n\n    .dataframe thead th {\n        text-align: right;\n    }\n</style>\n<table border=\"1\" class=\"dataframe\">\n  <thead>\n    <tr style=\"text-align: right;\">\n      <th></th>\n      <th>listing_id</th>\n      <th>compound</th>\n    </tr>\n  </thead>\n  <tbody>\n    <tr>\n      <th>0</th>\n      <td>25972498</td>\n      <td>0.6249</td>\n    </tr>\n    <tr>\n      <th>1</th>\n      <td>42417293</td>\n      <td>0.6249</td>\n    </tr>\n    <tr>\n      <th>2</th>\n      <td>42417293</td>\n      <td>0.4019</td>\n    </tr>\n    <tr>\n      <th>3</th>\n      <td>3460343</td>\n      <td>0.6249</td>\n    </tr>\n    <tr>\n      <th>4</th>\n      <td>21037382</td>\n      <td>0.4019</td>\n    </tr>\n  </tbody>\n</table>\n</div>"
     },
     "metadata": {},
     "execution_count": 6
    }
   ],
   "source": [
    "reviews_df.head()"
   ]
  },
  {
   "source": [
    "# Strategy to get sentiment rating"
   ],
   "cell_type": "markdown",
   "metadata": {}
  },
  {
   "source": [
    "Get average compound by listing_id\n",
    "1. Find total no. of listing_ids\n",
    "2. For each listing_id\n",
    "- Find total no. of reviews \n",
    "- Sum compound column\n",
    "- Divide compound sum with no. of reviews \n",
    "- Place in new column called sentiment_rating\n",
    "- final df should only have listing_id and sentiment_rating"
   ],
   "cell_type": "markdown",
   "metadata": {}
  },
  {
   "cell_type": "code",
   "execution_count": 7,
   "metadata": {},
   "outputs": [
    {
     "output_type": "execute_result",
     "data": {
      "text/plain": [
       "3919"
      ]
     },
     "metadata": {},
     "execution_count": 7
    }
   ],
   "source": [
    "reviews_df['listing_id'].nunique()"
   ]
  },
  {
   "cell_type": "code",
   "execution_count": 8,
   "metadata": {},
   "outputs": [],
   "source": [
    "new_df = reviews_df.groupby(['listing_id']).mean().reset_index()\n",
    "new_df = new_df.rename(columns={\"compound\": 'sentiment_rating'})"
   ]
  },
  {
   "cell_type": "code",
   "execution_count": 9,
   "metadata": {},
   "outputs": [
    {
     "output_type": "stream",
     "name": "stdout",
     "text": [
      "percentage of NaNs for listing_id: 0.000\npercentage of NaNs for sentiment_rating: 0.000\n"
     ]
    }
   ],
   "source": [
    "for column in new_df.columns:\n",
    "    num_nans = new_df[column].isna().sum()\n",
    "    print('percentage of NaNs for {}: {:.3f}'.format(\n",
    "        column, \n",
    "        num_nans / len(new_df) * 100\n",
    "    ))"
   ]
  },
  {
   "cell_type": "code",
   "execution_count": 10,
   "metadata": {},
   "outputs": [
    {
     "output_type": "execute_result",
     "data": {
      "text/plain": [
       "   listing_id  sentiment_rating\n",
       "0       49091          0.961500\n",
       "1       50646          0.933440\n",
       "2       56334          0.936243\n",
       "3       71609          0.681446\n",
       "4       71896          0.747300"
      ],
      "text/html": "<div>\n<style scoped>\n    .dataframe tbody tr th:only-of-type {\n        vertical-align: middle;\n    }\n\n    .dataframe tbody tr th {\n        vertical-align: top;\n    }\n\n    .dataframe thead th {\n        text-align: right;\n    }\n</style>\n<table border=\"1\" class=\"dataframe\">\n  <thead>\n    <tr style=\"text-align: right;\">\n      <th></th>\n      <th>listing_id</th>\n      <th>sentiment_rating</th>\n    </tr>\n  </thead>\n  <tbody>\n    <tr>\n      <th>0</th>\n      <td>49091</td>\n      <td>0.961500</td>\n    </tr>\n    <tr>\n      <th>1</th>\n      <td>50646</td>\n      <td>0.933440</td>\n    </tr>\n    <tr>\n      <th>2</th>\n      <td>56334</td>\n      <td>0.936243</td>\n    </tr>\n    <tr>\n      <th>3</th>\n      <td>71609</td>\n      <td>0.681446</td>\n    </tr>\n    <tr>\n      <th>4</th>\n      <td>71896</td>\n      <td>0.747300</td>\n    </tr>\n  </tbody>\n</table>\n</div>"
     },
     "metadata": {},
     "execution_count": 10
    }
   ],
   "source": [
    "new_df.head()"
   ]
  },
  {
   "cell_type": "code",
   "execution_count": 11,
   "metadata": {},
   "outputs": [],
   "source": [
    "new_df.to_csv('reviews_rating.csv', index=False)"
   ]
  },
  {
   "cell_type": "code",
   "execution_count": null,
   "metadata": {},
   "outputs": [],
   "source": []
  }
 ]
}
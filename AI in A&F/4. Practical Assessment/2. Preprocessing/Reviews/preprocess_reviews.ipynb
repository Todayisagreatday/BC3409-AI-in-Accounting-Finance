{
 "metadata": {
  "language_info": {
   "codemirror_mode": {
    "name": "ipython",
    "version": 3
   },
   "file_extension": ".py",
   "mimetype": "text/x-python",
   "name": "python",
   "nbconvert_exporter": "python",
   "pygments_lexer": "ipython3",
   "version": "3.7.4-final"
  },
  "orig_nbformat": 2,
  "kernelspec": {
   "name": "Python 3.7.4 32-bit",
   "display_name": "Python 3.7.4 32-bit",
   "metadata": {
    "interpreter": {
     "hash": "0583dff42c225fd69ce4a2cd352b839fca951d8f7a0d4a67c17135b19aa42b3e"
    }
   }
  }
 },
 "nbformat": 4,
 "nbformat_minor": 2,
 "cells": [
  {
   "source": [
    "# Import libraries"
   ],
   "cell_type": "markdown",
   "metadata": {}
  },
  {
   "cell_type": "code",
   "execution_count": 1,
   "metadata": {},
   "outputs": [],
   "source": [
    "import pandas as pd\n",
    "import numpy as np\n",
    "from langdetect import detect\n",
    "from vaderSentiment.vaderSentiment import SentimentIntensityAnalyzer\n",
    "pd.set_option('display.max_rows', 300)\n",
    "pd.options.display.max_colwidth = 10000"
   ]
  },
  {
   "source": [
    "# Read data"
   ],
   "cell_type": "markdown",
   "metadata": {}
  },
  {
   "cell_type": "code",
   "execution_count": 2,
   "metadata": {},
   "outputs": [],
   "source": [
    "reviews_df = pd.read_csv('reviews.csv')"
   ]
  },
  {
   "cell_type": "code",
   "execution_count": 3,
   "metadata": {},
   "outputs": [
    {
     "output_type": "execute_result",
     "data": {
      "text/plain": [
       "   listing_id        id        date  reviewer_id reviewer_name  \\\n",
       "0       49091   8243238  2013-10-21      8557223         Jared   \n",
       "1       50646  11909864  2014-04-18      1356099         James   \n",
       "2       50646  13823948  2014-06-05     15222393         Welli   \n",
       "3       50646  15117222  2014-07-02      5543172         Cyril   \n",
       "4       50646  15426462  2014-07-08       817532          Jake   \n",
       "\n",
       "                                                                                                                                                                                                                                                                                                                                                                                                                                  comments  \n",
       "0                                                                                                                                                                                                                                                                                          Fran was absolutely gracious and welcoming. Made my stay a great experience. Would definitely recommend this cozy and peaceful place to anyone.  \n",
       "1                                                                                                                                                                                                             A comfortable room in a smart condo development. Everything was kept very clean and I had the use of my own bathroom. Sujatha and her husband are great hosts - very friendly and accommodating. I'll be staying here again.  \n",
       "2  Stayed over at Sujatha's house for 3 good nights with my boyfriend. Sujatha and her husband are great hosts, very welcoming and friendly. The room is comfortable and clean. I'm happy to have my own bathroom as i'm particular with shared bathroom. \\r\\nThe location is accessible. A few minutes walk from the house to nearest bus stop which can bring you to town.\\r\\nGood place, good hosts, good price.\\r\\nHighly recommended!  \n",
       "3                                                                                                                                                                                                     It's been a lovely stay at Sujatha's. The room is clean and the location is just perfect for a stop-over in Singapore. I really enjoyed relaxing at the swimming pool after spending most of the day in the city. Thank you Sujatha.  \n",
       "4                                                                                                                                                                                                                                                                                                                                            We had a great experience. A nice place, an amazing complex and easy access to public transit  "
      ],
      "text/html": "<div>\n<style scoped>\n    .dataframe tbody tr th:only-of-type {\n        vertical-align: middle;\n    }\n\n    .dataframe tbody tr th {\n        vertical-align: top;\n    }\n\n    .dataframe thead th {\n        text-align: right;\n    }\n</style>\n<table border=\"1\" class=\"dataframe\">\n  <thead>\n    <tr style=\"text-align: right;\">\n      <th></th>\n      <th>listing_id</th>\n      <th>id</th>\n      <th>date</th>\n      <th>reviewer_id</th>\n      <th>reviewer_name</th>\n      <th>comments</th>\n    </tr>\n  </thead>\n  <tbody>\n    <tr>\n      <th>0</th>\n      <td>49091</td>\n      <td>8243238</td>\n      <td>2013-10-21</td>\n      <td>8557223</td>\n      <td>Jared</td>\n      <td>Fran was absolutely gracious and welcoming. Made my stay a great experience. Would definitely recommend this cozy and peaceful place to anyone.</td>\n    </tr>\n    <tr>\n      <th>1</th>\n      <td>50646</td>\n      <td>11909864</td>\n      <td>2014-04-18</td>\n      <td>1356099</td>\n      <td>James</td>\n      <td>A comfortable room in a smart condo development. Everything was kept very clean and I had the use of my own bathroom. Sujatha and her husband are great hosts - very friendly and accommodating. I'll be staying here again.</td>\n    </tr>\n    <tr>\n      <th>2</th>\n      <td>50646</td>\n      <td>13823948</td>\n      <td>2014-06-05</td>\n      <td>15222393</td>\n      <td>Welli</td>\n      <td>Stayed over at Sujatha's house for 3 good nights with my boyfriend. Sujatha and her husband are great hosts, very welcoming and friendly. The room is comfortable and clean. I'm happy to have my own bathroom as i'm particular with shared bathroom. \\r\\nThe location is accessible. A few minutes walk from the house to nearest bus stop which can bring you to town.\\r\\nGood place, good hosts, good price.\\r\\nHighly recommended!</td>\n    </tr>\n    <tr>\n      <th>3</th>\n      <td>50646</td>\n      <td>15117222</td>\n      <td>2014-07-02</td>\n      <td>5543172</td>\n      <td>Cyril</td>\n      <td>It's been a lovely stay at Sujatha's. The room is clean and the location is just perfect for a stop-over in Singapore. I really enjoyed relaxing at the swimming pool after spending most of the day in the city. Thank you Sujatha.</td>\n    </tr>\n    <tr>\n      <th>4</th>\n      <td>50646</td>\n      <td>15426462</td>\n      <td>2014-07-08</td>\n      <td>817532</td>\n      <td>Jake</td>\n      <td>We had a great experience. A nice place, an amazing complex and easy access to public transit</td>\n    </tr>\n  </tbody>\n</table>\n</div>"
     },
     "metadata": {},
     "execution_count": 3
    }
   ],
   "source": [
    "reviews_df.head()"
   ]
  },
  {
   "cell_type": "code",
   "execution_count": 4,
   "metadata": {},
   "outputs": [],
   "source": [
    "reviews_df['length'] = reviews_df['comments'].str.len()\n",
    "reviews_df = reviews_df[reviews_df['length'] >= 5]\n",
    "reviews_df.sort_values(by=['length'], ascending=True, inplace=True)"
   ]
  },
  {
   "cell_type": "code",
   "execution_count": 5,
   "metadata": {},
   "outputs": [
    {
     "output_type": "execute_result",
     "data": {
      "text/plain": [
       "(90108, 7)"
      ]
     },
     "metadata": {},
     "execution_count": 5
    }
   ],
   "source": [
    "reviews_df.shape"
   ]
  },
  {
   "cell_type": "code",
   "execution_count": 6,
   "metadata": {},
   "outputs": [],
   "source": [
    "import re\n",
    "def general_cleaning(x):\n",
    "    x = str(x)\n",
    "    pattern = '[^a-zA-Z0-9\\ ]'\n",
    "    x = re.sub(pattern,'',x)\n",
    "    x = x.strip()\n",
    "    return x"
   ]
  },
  {
   "cell_type": "code",
   "execution_count": 7,
   "metadata": {},
   "outputs": [],
   "source": [
    "reviews_df['comments'] = reviews_df['comments'].apply(general_cleaning)\n",
    "reviews_df = reviews_df[reviews_df['comments'] != '']"
   ]
  },
  {
   "cell_type": "code",
   "execution_count": 8,
   "metadata": {},
   "outputs": [
    {
     "output_type": "execute_result",
     "data": {
      "text/plain": [
       "(84447, 7)"
      ]
     },
     "metadata": {},
     "execution_count": 8
    }
   ],
   "source": [
    "reviews_df.shape"
   ]
  },
  {
   "cell_type": "code",
   "execution_count": 9,
   "metadata": {},
   "outputs": [],
   "source": [
    "def truncate_comment(text):\n",
    "    text = text[:15]\n",
    "    return text\n",
    "reviews_df['short_comment'] = reviews_df['comments'].apply(truncate_comment)"
   ]
  },
  {
   "cell_type": "code",
   "execution_count": null,
   "metadata": {},
   "outputs": [],
   "source": [
    "def translate_lang(text):\n",
    "    lang = detect(text)\n",
    "    return lang \n",
    "\n",
    "reviews_df['language'] = reviews_df['short_comment'].apply(translate_lang)"
   ]
  },
  {
   "cell_type": "code",
   "execution_count": null,
   "metadata": {},
   "outputs": [],
   "source": [
    "reviews_df.to_csv('reviews_cleaned.csv')"
   ]
  },
  {
   "cell_type": "code",
   "execution_count": null,
   "metadata": {},
   "outputs": [],
   "source": [
    "reviews_df = reviews_df[reviews_df['language'] == 'en']"
   ]
  },
  {
   "cell_type": "code",
   "execution_count": null,
   "metadata": {},
   "outputs": [],
   "source": [
    "analyzer = SentimentIntensityAnalyzer()\n",
    "reviews_df['compound'] = [analyzer.polarity_scores(x)['compound'] for x in reviews_df['comments']]\n",
    "reviews_df['neg'] = [analyzer.polarity_scores(x)['neg'] for x in reviews_df['comments']]\n",
    "reviews_df['neu'] = [analyzer.polarity_scores(x)['neu'] for x in reviews_df['comments']]\n",
    "reviews_df['pos'] = [analyzer.polarity_scores(x)['pos'] for x in reviews_df['comments']]"
   ]
  },
  {
   "cell_type": "code",
   "execution_count": null,
   "metadata": {},
   "outputs": [],
   "source": [
    "reviews_df.to_csv('reviews_cleaned_sentiment.csv')"
   ]
  }
 ]
}
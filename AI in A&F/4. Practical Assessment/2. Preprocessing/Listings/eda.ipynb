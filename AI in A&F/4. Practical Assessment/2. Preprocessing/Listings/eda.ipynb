{
 "metadata": {
  "language_info": {
   "codemirror_mode": {
    "name": "ipython",
    "version": 3
   },
   "file_extension": ".py",
   "mimetype": "text/x-python",
   "name": "python",
   "nbconvert_exporter": "python",
   "pygments_lexer": "ipython3",
   "version": "3.8.3-final"
  },
  "orig_nbformat": 2,
  "kernelspec": {
   "name": "python3",
   "display_name": "Python 3"
  }
 },
 "nbformat": 4,
 "nbformat_minor": 2,
 "cells": [
  {
   "cell_type": "code",
   "execution_count": 1,
   "metadata": {},
   "outputs": [],
   "source": [
    "import pandas as pd"
   ]
  },
  {
   "cell_type": "code",
   "execution_count": 2,
   "metadata": {},
   "outputs": [],
   "source": [
    "listings = pd.read_csv('listings.csv')"
   ]
  },
  {
   "cell_type": "code",
   "execution_count": 6,
   "metadata": {},
   "outputs": [
    {
     "output_type": "execute_result",
     "data": {
      "text/plain": [
       "Entire home/apt    52.257493\n",
       "Private room       42.759580\n",
       "Shared room         4.982927\n",
       "Name: room_type, dtype: float64"
      ]
     },
     "metadata": {},
     "execution_count": 6
    }
   ],
   "source": [
    "listings['room_type'].value_counts()/7907 * 100"
   ]
  },
  {
   "cell_type": "code",
   "execution_count": 11,
   "metadata": {},
   "outputs": [],
   "source": [
    "shared = listings['room_type'] == 'Shared room'\n",
    "region = listings['neighbourhood_group'] == 'Central Region'\n",
    "\n",
    "price_share = listings[shared & region]"
   ]
  },
  {
   "cell_type": "code",
   "execution_count": 12,
   "metadata": {},
   "outputs": [
    {
     "output_type": "execute_result",
     "data": {
      "text/plain": [
       "                 id       host_id    latitude   longitude        price  \\\n",
       "count  3.480000e+02  3.480000e+02  348.000000  348.000000   348.000000   \n",
       "mean   2.061951e+07  9.062870e+07    1.298519  103.847071    59.198276   \n",
       "std    9.697997e+06  7.138072e+07    0.013591    0.021621   153.239724   \n",
       "min    7.199440e+05  5.810330e+05    1.271730  103.767960    18.000000   \n",
       "25%    1.236692e+07  4.322862e+07    1.286775  103.844678    26.000000   \n",
       "50%    2.083891e+07  6.344891e+07    1.299475  103.848620    32.000000   \n",
       "75%    2.899818e+07  1.177660e+08    1.310057  103.858808    46.000000   \n",
       "max    3.775779e+07  2.642307e+08    1.364860  103.904050  2500.000000   \n",
       "\n",
       "       minimum_nights  number_of_reviews  reviews_per_month  \\\n",
       "count      348.000000         348.000000         258.000000   \n",
       "mean         2.729885          13.910920           0.793023   \n",
       "std         16.150821          26.237786           0.803361   \n",
       "min          1.000000           0.000000           0.020000   \n",
       "25%          1.000000           0.000000           0.210000   \n",
       "50%          1.000000           3.000000           0.545000   \n",
       "75%          1.000000          15.000000           1.060000   \n",
       "max        240.000000         192.000000           5.800000   \n",
       "\n",
       "       calculated_host_listings_count  availability_365  \n",
       "count                      348.000000        348.000000  \n",
       "mean                        21.474138        286.060345  \n",
       "std                         29.506252        123.233498  \n",
       "min                          1.000000          0.000000  \n",
       "25%                          6.000000        267.500000  \n",
       "50%                          9.000000        355.000000  \n",
       "75%                         17.250000        362.000000  \n",
       "max                        109.000000        365.000000  "
      ],
      "text/html": "<div>\n<style scoped>\n    .dataframe tbody tr th:only-of-type {\n        vertical-align: middle;\n    }\n\n    .dataframe tbody tr th {\n        vertical-align: top;\n    }\n\n    .dataframe thead th {\n        text-align: right;\n    }\n</style>\n<table border=\"1\" class=\"dataframe\">\n  <thead>\n    <tr style=\"text-align: right;\">\n      <th></th>\n      <th>id</th>\n      <th>host_id</th>\n      <th>latitude</th>\n      <th>longitude</th>\n      <th>price</th>\n      <th>minimum_nights</th>\n      <th>number_of_reviews</th>\n      <th>reviews_per_month</th>\n      <th>calculated_host_listings_count</th>\n      <th>availability_365</th>\n    </tr>\n  </thead>\n  <tbody>\n    <tr>\n      <th>count</th>\n      <td>3.480000e+02</td>\n      <td>3.480000e+02</td>\n      <td>348.000000</td>\n      <td>348.000000</td>\n      <td>348.000000</td>\n      <td>348.000000</td>\n      <td>348.000000</td>\n      <td>258.000000</td>\n      <td>348.000000</td>\n      <td>348.000000</td>\n    </tr>\n    <tr>\n      <th>mean</th>\n      <td>2.061951e+07</td>\n      <td>9.062870e+07</td>\n      <td>1.298519</td>\n      <td>103.847071</td>\n      <td>59.198276</td>\n      <td>2.729885</td>\n      <td>13.910920</td>\n      <td>0.793023</td>\n      <td>21.474138</td>\n      <td>286.060345</td>\n    </tr>\n    <tr>\n      <th>std</th>\n      <td>9.697997e+06</td>\n      <td>7.138072e+07</td>\n      <td>0.013591</td>\n      <td>0.021621</td>\n      <td>153.239724</td>\n      <td>16.150821</td>\n      <td>26.237786</td>\n      <td>0.803361</td>\n      <td>29.506252</td>\n      <td>123.233498</td>\n    </tr>\n    <tr>\n      <th>min</th>\n      <td>7.199440e+05</td>\n      <td>5.810330e+05</td>\n      <td>1.271730</td>\n      <td>103.767960</td>\n      <td>18.000000</td>\n      <td>1.000000</td>\n      <td>0.000000</td>\n      <td>0.020000</td>\n      <td>1.000000</td>\n      <td>0.000000</td>\n    </tr>\n    <tr>\n      <th>25%</th>\n      <td>1.236692e+07</td>\n      <td>4.322862e+07</td>\n      <td>1.286775</td>\n      <td>103.844678</td>\n      <td>26.000000</td>\n      <td>1.000000</td>\n      <td>0.000000</td>\n      <td>0.210000</td>\n      <td>6.000000</td>\n      <td>267.500000</td>\n    </tr>\n    <tr>\n      <th>50%</th>\n      <td>2.083891e+07</td>\n      <td>6.344891e+07</td>\n      <td>1.299475</td>\n      <td>103.848620</td>\n      <td>32.000000</td>\n      <td>1.000000</td>\n      <td>3.000000</td>\n      <td>0.545000</td>\n      <td>9.000000</td>\n      <td>355.000000</td>\n    </tr>\n    <tr>\n      <th>75%</th>\n      <td>2.899818e+07</td>\n      <td>1.177660e+08</td>\n      <td>1.310057</td>\n      <td>103.858808</td>\n      <td>46.000000</td>\n      <td>1.000000</td>\n      <td>15.000000</td>\n      <td>1.060000</td>\n      <td>17.250000</td>\n      <td>362.000000</td>\n    </tr>\n    <tr>\n      <th>max</th>\n      <td>3.775779e+07</td>\n      <td>2.642307e+08</td>\n      <td>1.364860</td>\n      <td>103.904050</td>\n      <td>2500.000000</td>\n      <td>240.000000</td>\n      <td>192.000000</td>\n      <td>5.800000</td>\n      <td>109.000000</td>\n      <td>365.000000</td>\n    </tr>\n  </tbody>\n</table>\n</div>"
     },
     "metadata": {},
     "execution_count": 12
    }
   ],
   "source": [
    "price_share.describe()"
   ]
  },
  {
   "cell_type": "code",
   "execution_count": 22,
   "metadata": {},
   "outputs": [
    {
     "output_type": "execute_result",
     "data": {
      "text/plain": [
       "neighbourhood            neighbourhood_group\n",
       "Kallang                  Central Region         1043\n",
       "Geylang                  Central Region          994\n",
       "Novena                   Central Region          537\n",
       "Rochor                   Central Region          536\n",
       "Outram                   Central Region          477\n",
       "Bukit Merah              Central Region          470\n",
       "Downtown Core            Central Region          428\n",
       "Bedok                    East Region             373\n",
       "River Valley             Central Region          362\n",
       "Queenstown               Central Region          266\n",
       "Tanglin                  Central Region          210\n",
       "Singapore River          Central Region          175\n",
       "Marine Parade            Central Region          171\n",
       "Jurong West              West Region             153\n",
       "Orchard                  Central Region          136\n",
       "Newton                   Central Region          134\n",
       "Bukit Timah              Central Region          131\n",
       "Jurong East              West Region             118\n",
       "Hougang                  North-East Region       109\n",
       "Clementi                 West Region             102\n",
       "Toa Payoh                Central Region          101\n",
       "Pasir Ris                East Region              71\n",
       "Serangoon                North-East Region        69\n",
       "Sengkang                 North-East Region        67\n",
       "Woodlands                North Region             67\n",
       "Bukit Batok              West Region              65\n",
       "Tampines                 East Region              64\n",
       "Choa Chu Kang            West Region              63\n",
       "Museum                   Central Region           63\n",
       "Ang Mo Kio               North-East Region        58\n",
       "Bishan                   Central Region           57\n",
       "Yishun                   North Region             53\n",
       "Punggol                  North-East Region        43\n",
       "Sembawang                North Region             41\n",
       "Central Water Catchment  North Region             34\n",
       "Bukit Panjang            West Region              34\n",
       "Southern Islands         Central Region           17\n",
       "Sungei Kadut             North Region              5\n",
       "Western Water Catchment  West Region               4\n",
       "Mandai                   North Region              3\n",
       "Lim Chu Kang             North Region              1\n",
       "Marina South             Central Region            1\n",
       "Tuas                     West Region               1\n",
       "dtype: int64"
      ]
     },
     "metadata": {},
     "execution_count": 22
    }
   ],
   "source": [
    "listings.groupby(['neighbourhood','neighbourhood_group']).size().sort_values(ascending=False)"
   ]
  },
  {
   "cell_type": "code",
   "execution_count": 21,
   "metadata": {},
   "outputs": [
    {
     "output_type": "execute_result",
     "data": {
      "text/plain": [
       "neighbourhood_group\n",
       "Central Region       6309\n",
       "West Region           540\n",
       "East Region           508\n",
       "North-East Region     346\n",
       "North Region          204\n",
       "dtype: int64"
      ]
     },
     "metadata": {},
     "execution_count": 21
    }
   ],
   "source": [
    "listings.groupby(['neighbourhood_group']).size().sort_values(ascending=False)"
   ]
  },
  {
   "cell_type": "code",
   "execution_count": null,
   "metadata": {},
   "outputs": [],
   "source": []
  }
 ]
}
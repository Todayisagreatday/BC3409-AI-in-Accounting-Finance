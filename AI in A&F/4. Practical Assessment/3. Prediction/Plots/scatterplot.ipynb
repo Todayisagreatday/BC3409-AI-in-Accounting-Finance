{
 "metadata": {
  "language_info": {
   "codemirror_mode": {
    "name": "ipython",
    "version": 3
   },
   "file_extension": ".py",
   "mimetype": "text/x-python",
   "name": "python",
   "nbconvert_exporter": "python",
   "pygments_lexer": "ipython3",
   "version": "3.7.4-final"
  },
  "orig_nbformat": 2,
  "kernelspec": {
   "name": "Python 3.7.4 32-bit",
   "display_name": "Python 3.7.4 32-bit",
   "metadata": {
    "interpreter": {
     "hash": "0583dff42c225fd69ce4a2cd352b839fca951d8f7a0d4a67c17135b19aa42b3e"
    }
   }
  }
 },
 "nbformat": 4,
 "nbformat_minor": 2,
 "cells": [
  {
   "cell_type": "code",
   "execution_count": 1,
   "metadata": {},
   "outputs": [],
   "source": [
    "import numpy as np\n",
    "import pandas as pd \n",
    "from sklearn.preprocessing import StandardScaler, RobustScaler\n",
    "from sklearn.metrics import mean_squared_error, mean_absolute_error\n",
    "from sklearn.model_selection import train_test_split\n",
    "from sklearn.ensemble import RandomForestRegressor\n",
    "from math import sqrt\n",
    "import wandb\n",
    "\n",
    "data = pd.read_csv('C:/Users/delim/Desktop/AI in A&F Indiv Assignment/Practical Assessment/Prediction/dataset_8.csv')\n",
    "# Train test split\n",
    "X = data.iloc[:,data.columns != 'price']\n",
    "Y = data['price']\n",
    "X_train, X_test, y_train, y_test = train_test_split(X, Y, test_size=0.3, random_state=7)\n",
    "# Standardize dataset\n",
    "scaler = StandardScaler().fit(X_train)\n",
    "X_train = scaler.transform(X_train)\n",
    "X_test = scaler.transform(X_test)\n",
    "\n",
    "model = RandomForestRegressor(n_estimators=475, max_depth=32)\n",
    "model.fit(X_train,y_train)\n",
    "y_pred = model.predict(X_test)"
   ]
  },
  {
   "cell_type": "code",
   "execution_count": 2,
   "metadata": {},
   "outputs": [
    {
     "output_type": "execute_result",
     "data": {
      "text/plain": [
       "2614     47\n",
       "514     131\n",
       "638      50\n",
       "412     111\n",
       "1910    149\n",
       "       ... \n",
       "1807    110\n",
       "1343    100\n",
       "3010    100\n",
       "2906    181\n",
       "1286     87\n",
       "Name: price, Length: 1092, dtype: int64"
      ]
     },
     "metadata": {},
     "execution_count": 2
    }
   ],
   "source": [
    "y_pred = pd.Series(y_pred)\n",
    "df1 = pd.DataFrame()\n",
    "df2 = pd.DataFrame()\n",
    "df1['Actual'] = y_test\n",
    "df2['Predicted'] = y_pred\n",
    "df1 = df1.reset_index(drop=True)\n",
    "result = pd.concat([df1, df2], axis=1)"
   ]
  },
  {
   "cell_type": "code",
   "execution_count": 3,
   "metadata": {},
   "outputs": [],
   "source": [
    "result.to_csv('plot_scatter.csv')"
   ]
  }
 ]
}